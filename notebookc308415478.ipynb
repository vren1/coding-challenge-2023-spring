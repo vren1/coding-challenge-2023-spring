{
 "cells": [
  {
   "cell_type": "code",
   "execution_count": 1,
   "id": "f6ab8f5a",
   "metadata": {
    "_cell_guid": "b1076dfc-b9ad-4769-8c92-a6c4dae69d19",
    "_uuid": "8f2839f25d086af736a60e9eeb907d3b93b6e0e5",
    "execution": {
     "iopub.execute_input": "2023-01-24T18:49:29.518239Z",
     "iopub.status.busy": "2023-01-24T18:49:29.517748Z",
     "iopub.status.idle": "2023-01-24T18:49:29.529191Z",
     "shell.execute_reply": "2023-01-24T18:49:29.527946Z"
    },
    "papermill": {
     "duration": 0.023688,
     "end_time": "2023-01-24T18:49:29.531721",
     "exception": false,
     "start_time": "2023-01-24T18:49:29.508033",
     "status": "completed"
    },
    "tags": []
   },
   "outputs": [],
   "source": [
    "# This Python 3 environment comes with many helpful analytics libraries installed\n",
    "# It is defined by the kaggle/python Docker image: https://github.com/kaggle/docker-python\n",
    "# For example, here's several helpful packages to load\n",
    "\n",
    "import numpy as np\n",
    "import pandas as pd\n",
    "import matplotlib.pyplot as plt\n",
    "\n",
    "# You can write up to 20GB to the current directory (/kaggle/working/) that gets preserved as output when you create a version using \"Save & Run All\" \n",
    "# You can also write temporary files to /kaggle/temp/, but they won't be saved outside of the current session"
   ]
  },
  {
   "cell_type": "code",
   "execution_count": 2,
   "id": "1e49cfc5",
   "metadata": {
    "execution": {
     "iopub.execute_input": "2023-01-24T18:49:29.545670Z",
     "iopub.status.busy": "2023-01-24T18:49:29.545254Z",
     "iopub.status.idle": "2023-01-24T18:49:29.578165Z",
     "shell.execute_reply": "2023-01-24T18:49:29.577005Z"
    },
    "papermill": {
     "duration": 0.04286,
     "end_time": "2023-01-24T18:49:29.580982",
     "exception": false,
     "start_time": "2023-01-24T18:49:29.538122",
     "status": "completed"
    },
    "tags": []
   },
   "outputs": [],
   "source": [
    "filename = '/kaggle/input/star-dataset/6 class csv.csv'\n",
    "df = pd.read_csv(filename) "
   ]
  },
  {
   "cell_type": "code",
   "execution_count": 3,
   "id": "8bd79fd3",
   "metadata": {
    "execution": {
     "iopub.execute_input": "2023-01-24T18:49:29.595481Z",
     "iopub.status.busy": "2023-01-24T18:49:29.594728Z",
     "iopub.status.idle": "2023-01-24T18:49:29.618925Z",
     "shell.execute_reply": "2023-01-24T18:49:29.617691Z"
    },
    "papermill": {
     "duration": 0.034628,
     "end_time": "2023-01-24T18:49:29.621940",
     "exception": false,
     "start_time": "2023-01-24T18:49:29.587312",
     "status": "completed"
    },
    "tags": []
   },
   "outputs": [
    {
     "data": {
      "text/html": [
       "<div>\n",
       "<style scoped>\n",
       "    .dataframe tbody tr th:only-of-type {\n",
       "        vertical-align: middle;\n",
       "    }\n",
       "\n",
       "    .dataframe tbody tr th {\n",
       "        vertical-align: top;\n",
       "    }\n",
       "\n",
       "    .dataframe thead th {\n",
       "        text-align: right;\n",
       "    }\n",
       "</style>\n",
       "<table border=\"1\" class=\"dataframe\">\n",
       "  <thead>\n",
       "    <tr style=\"text-align: right;\">\n",
       "      <th></th>\n",
       "      <th>Temperature (K)</th>\n",
       "      <th>Luminosity(L/Lo)</th>\n",
       "      <th>Radius(R/Ro)</th>\n",
       "      <th>Absolute magnitude(Mv)</th>\n",
       "      <th>Star type</th>\n",
       "      <th>Star color</th>\n",
       "      <th>Spectral Class</th>\n",
       "    </tr>\n",
       "  </thead>\n",
       "  <tbody>\n",
       "    <tr>\n",
       "      <th>0</th>\n",
       "      <td>3068</td>\n",
       "      <td>0.002400</td>\n",
       "      <td>0.1700</td>\n",
       "      <td>16.12</td>\n",
       "      <td>0</td>\n",
       "      <td>Red</td>\n",
       "      <td>M</td>\n",
       "    </tr>\n",
       "    <tr>\n",
       "      <th>1</th>\n",
       "      <td>3042</td>\n",
       "      <td>0.000500</td>\n",
       "      <td>0.1542</td>\n",
       "      <td>16.60</td>\n",
       "      <td>0</td>\n",
       "      <td>Red</td>\n",
       "      <td>M</td>\n",
       "    </tr>\n",
       "    <tr>\n",
       "      <th>2</th>\n",
       "      <td>2600</td>\n",
       "      <td>0.000300</td>\n",
       "      <td>0.1020</td>\n",
       "      <td>18.70</td>\n",
       "      <td>0</td>\n",
       "      <td>Red</td>\n",
       "      <td>M</td>\n",
       "    </tr>\n",
       "    <tr>\n",
       "      <th>3</th>\n",
       "      <td>2800</td>\n",
       "      <td>0.000200</td>\n",
       "      <td>0.1600</td>\n",
       "      <td>16.65</td>\n",
       "      <td>0</td>\n",
       "      <td>Red</td>\n",
       "      <td>M</td>\n",
       "    </tr>\n",
       "    <tr>\n",
       "      <th>4</th>\n",
       "      <td>1939</td>\n",
       "      <td>0.000138</td>\n",
       "      <td>0.1030</td>\n",
       "      <td>20.06</td>\n",
       "      <td>0</td>\n",
       "      <td>Red</td>\n",
       "      <td>M</td>\n",
       "    </tr>\n",
       "  </tbody>\n",
       "</table>\n",
       "</div>"
      ],
      "text/plain": [
       "   Temperature (K)  Luminosity(L/Lo)  Radius(R/Ro)  Absolute magnitude(Mv)  \\\n",
       "0             3068          0.002400        0.1700                   16.12   \n",
       "1             3042          0.000500        0.1542                   16.60   \n",
       "2             2600          0.000300        0.1020                   18.70   \n",
       "3             2800          0.000200        0.1600                   16.65   \n",
       "4             1939          0.000138        0.1030                   20.06   \n",
       "\n",
       "   Star type Star color Spectral Class  \n",
       "0          0        Red              M  \n",
       "1          0        Red              M  \n",
       "2          0        Red              M  \n",
       "3          0        Red              M  \n",
       "4          0        Red              M  "
      ]
     },
     "execution_count": 3,
     "metadata": {},
     "output_type": "execute_result"
    }
   ],
   "source": [
    "df.head() # look at data to see if it needs processing"
   ]
  },
  {
   "cell_type": "markdown",
   "id": "bc9c1c34",
   "metadata": {
    "papermill": {
     "duration": 0.005614,
     "end_time": "2023-01-24T18:49:29.633636",
     "exception": false,
     "start_time": "2023-01-24T18:49:29.628022",
     "status": "completed"
    },
    "tags": []
   },
   "source": [
    "# Process the data before training the model. The Spectral Class and Star color columns have string data that needs to be converted to integers before we can begin training the model."
   ]
  },
  {
   "cell_type": "code",
   "execution_count": 4,
   "id": "839435e8",
   "metadata": {
    "execution": {
     "iopub.execute_input": "2023-01-24T18:49:29.647797Z",
     "iopub.status.busy": "2023-01-24T18:49:29.646879Z",
     "iopub.status.idle": "2023-01-24T18:49:29.658855Z",
     "shell.execute_reply": "2023-01-24T18:49:29.657624Z"
    },
    "papermill": {
     "duration": 0.021805,
     "end_time": "2023-01-24T18:49:29.661341",
     "exception": false,
     "start_time": "2023-01-24T18:49:29.639536",
     "status": "completed"
    },
    "tags": []
   },
   "outputs": [],
   "source": [
    "# replace string data with numbers\n",
    "df['Spectral Class'] = df['Spectral Class'].replace({'M': 0, 'B': 1, 'O': 2, 'A': 3, 'F': 4, 'K': 5, 'G': 6})"
   ]
  },
  {
   "cell_type": "code",
   "execution_count": 5,
   "id": "d5271350",
   "metadata": {
    "execution": {
     "iopub.execute_input": "2023-01-24T18:49:29.676013Z",
     "iopub.status.busy": "2023-01-24T18:49:29.675006Z",
     "iopub.status.idle": "2023-01-24T18:49:29.684657Z",
     "shell.execute_reply": "2023-01-24T18:49:29.683338Z"
    },
    "papermill": {
     "duration": 0.019583,
     "end_time": "2023-01-24T18:49:29.687078",
     "exception": false,
     "start_time": "2023-01-24T18:49:29.667495",
     "status": "completed"
    },
    "tags": []
   },
   "outputs": [],
   "source": [
    "# Convert all to uppercase\n",
    "uppercase = df['Star color'].apply(lambda x: x.upper())\n",
    "\n",
    "# Replace spaces with dashes\n",
    "stripped = uppercase.apply(lambda x: x.strip())\n",
    "processed = stripped.apply(lambda x: x.replace(\" \",\"-\"))\n",
    "\n",
    "df['Star color'] = processed"
   ]
  },
  {
   "cell_type": "code",
   "execution_count": 6,
   "id": "bee6d24d",
   "metadata": {
    "execution": {
     "iopub.execute_input": "2023-01-24T18:49:29.701421Z",
     "iopub.status.busy": "2023-01-24T18:49:29.700950Z",
     "iopub.status.idle": "2023-01-24T18:49:29.710258Z",
     "shell.execute_reply": "2023-01-24T18:49:29.709203Z"
    },
    "papermill": {
     "duration": 0.020037,
     "end_time": "2023-01-24T18:49:29.713424",
     "exception": false,
     "start_time": "2023-01-24T18:49:29.693387",
     "status": "completed"
    },
    "tags": []
   },
   "outputs": [
    {
     "name": "stdout",
     "output_type": "stream",
     "text": [
      "['RED' 'BLUE-WHITE' 'WHITE' 'YELLOWISH-WHITE' 'PALE-YELLOW-ORANGE' 'BLUE'\n",
      " 'WHITISH' 'YELLOW-WHITE' 'ORANGE' 'WHITE-YELLOW' 'YELLOWISH' 'ORANGE-RED']\n"
     ]
    }
   ],
   "source": [
    "print(df['Star color'].unique())"
   ]
  },
  {
   "cell_type": "code",
   "execution_count": 7,
   "id": "a8a8d6cc",
   "metadata": {
    "execution": {
     "iopub.execute_input": "2023-01-24T18:49:29.730221Z",
     "iopub.status.busy": "2023-01-24T18:49:29.729128Z",
     "iopub.status.idle": "2023-01-24T18:49:29.739521Z",
     "shell.execute_reply": "2023-01-24T18:49:29.738127Z"
    },
    "papermill": {
     "duration": 0.022498,
     "end_time": "2023-01-24T18:49:29.742177",
     "exception": false,
     "start_time": "2023-01-24T18:49:29.719679",
     "status": "completed"
    },
    "tags": []
   },
   "outputs": [],
   "source": [
    "# create dictionary to replace string data\n",
    "count = 0\n",
    "color_numeric = {}\n",
    "for color in df['Star color'].unique():\n",
    "    color_numeric[color] = count\n",
    "    count += 1\n",
    "    \n",
    "# replace string data with integers\n",
    "df['Star color'] = df['Star color'].replace(color_numeric)"
   ]
  },
  {
   "cell_type": "code",
   "execution_count": 8,
   "id": "e3ad4561",
   "metadata": {
    "execution": {
     "iopub.execute_input": "2023-01-24T18:49:29.757715Z",
     "iopub.status.busy": "2023-01-24T18:49:29.757310Z",
     "iopub.status.idle": "2023-01-24T18:49:30.919892Z",
     "shell.execute_reply": "2023-01-24T18:49:30.918494Z"
    },
    "papermill": {
     "duration": 1.173805,
     "end_time": "2023-01-24T18:49:30.922834",
     "exception": false,
     "start_time": "2023-01-24T18:49:29.749029",
     "status": "completed"
    },
    "tags": []
   },
   "outputs": [],
   "source": [
    "# split features into training and testing sets\n",
    "from sklearn.model_selection import train_test_split\n",
    "\n",
    "x = df.drop('Star type', axis=1)\n",
    "y = df['Star type']\n",
    "\n",
    "x_train, x_test, y_train, y_test = train_test_split(x, y, test_size=0.2, random_state=10)"
   ]
  },
  {
   "cell_type": "markdown",
   "id": "4be3fd0d",
   "metadata": {
    "papermill": {
     "duration": 0.006216,
     "end_time": "2023-01-24T18:49:30.935760",
     "exception": false,
     "start_time": "2023-01-24T18:49:30.929544",
     "status": "completed"
    },
    "tags": []
   },
   "source": [
    "# Begin training model. We choose a Random Forest Classifier for its strength in handling classification tasks."
   ]
  },
  {
   "cell_type": "code",
   "execution_count": 9,
   "id": "cbbe2eee",
   "metadata": {
    "execution": {
     "iopub.execute_input": "2023-01-24T18:49:30.951306Z",
     "iopub.status.busy": "2023-01-24T18:49:30.950502Z",
     "iopub.status.idle": "2023-01-24T18:49:31.165822Z",
     "shell.execute_reply": "2023-01-24T18:49:31.164761Z"
    },
    "papermill": {
     "duration": 0.226525,
     "end_time": "2023-01-24T18:49:31.168812",
     "exception": false,
     "start_time": "2023-01-24T18:49:30.942287",
     "status": "completed"
    },
    "tags": []
   },
   "outputs": [],
   "source": [
    "from sklearn.ensemble import RandomForestClassifier\n",
    "clf = RandomForestClassifier()"
   ]
  },
  {
   "cell_type": "code",
   "execution_count": 10,
   "id": "063c688d",
   "metadata": {
    "execution": {
     "iopub.execute_input": "2023-01-24T18:49:31.183262Z",
     "iopub.status.busy": "2023-01-24T18:49:31.182824Z",
     "iopub.status.idle": "2023-01-24T18:49:31.358254Z",
     "shell.execute_reply": "2023-01-24T18:49:31.357076Z"
    },
    "papermill": {
     "duration": 0.185322,
     "end_time": "2023-01-24T18:49:31.360766",
     "exception": false,
     "start_time": "2023-01-24T18:49:31.175444",
     "status": "completed"
    },
    "tags": []
   },
   "outputs": [
    {
     "data": {
      "text/plain": [
       "RandomForestClassifier()"
      ]
     },
     "execution_count": 10,
     "metadata": {},
     "output_type": "execute_result"
    }
   ],
   "source": [
    "clf.fit(x_train, y_train)"
   ]
  },
  {
   "cell_type": "code",
   "execution_count": 11,
   "id": "cef8234a",
   "metadata": {
    "execution": {
     "iopub.execute_input": "2023-01-24T18:49:31.374890Z",
     "iopub.status.busy": "2023-01-24T18:49:31.374434Z",
     "iopub.status.idle": "2023-01-24T18:49:31.400368Z",
     "shell.execute_reply": "2023-01-24T18:49:31.399248Z"
    },
    "papermill": {
     "duration": 0.035798,
     "end_time": "2023-01-24T18:49:31.402814",
     "exception": false,
     "start_time": "2023-01-24T18:49:31.367016",
     "status": "completed"
    },
    "tags": []
   },
   "outputs": [],
   "source": [
    "# Make predictions on the test set\n",
    "y_pred = clf.predict(x_test)"
   ]
  },
  {
   "cell_type": "code",
   "execution_count": 12,
   "id": "d9f32f7c",
   "metadata": {
    "execution": {
     "iopub.execute_input": "2023-01-24T18:49:31.416839Z",
     "iopub.status.busy": "2023-01-24T18:49:31.416456Z",
     "iopub.status.idle": "2023-01-24T18:49:31.423513Z",
     "shell.execute_reply": "2023-01-24T18:49:31.422109Z"
    },
    "papermill": {
     "duration": 0.017339,
     "end_time": "2023-01-24T18:49:31.426423",
     "exception": false,
     "start_time": "2023-01-24T18:49:31.409084",
     "status": "completed"
    },
    "tags": []
   },
   "outputs": [
    {
     "name": "stdout",
     "output_type": "stream",
     "text": [
      "Accuracy: 1.0\n"
     ]
    }
   ],
   "source": [
    "from sklearn.metrics import accuracy_score\n",
    "# Evaluate the model's performance\n",
    "accuracy = accuracy_score(y_test, y_pred)\n",
    "print(\"Accuracy:\", accuracy)"
   ]
  },
  {
   "cell_type": "markdown",
   "id": "3293241a",
   "metadata": {
    "papermill": {
     "duration": 0.006452,
     "end_time": "2023-01-24T18:49:31.439540",
     "exception": false,
     "start_time": "2023-01-24T18:49:31.433088",
     "status": "completed"
    },
    "tags": []
   },
   "source": [
    "### The model has an accuracy of 1.0! It is now trained and ready to make predictions."
   ]
  },
  {
   "cell_type": "markdown",
   "id": "6c72e41a",
   "metadata": {
    "papermill": {
     "duration": 0.006257,
     "end_time": "2023-01-24T18:49:31.452767",
     "exception": false,
     "start_time": "2023-01-24T18:49:31.446510",
     "status": "completed"
    },
    "tags": []
   },
   "source": [
    "# Make a prediction for the Sun with the trained model."
   ]
  },
  {
   "cell_type": "code",
   "execution_count": 13,
   "id": "572514e3",
   "metadata": {
    "execution": {
     "iopub.execute_input": "2023-01-24T18:49:31.468033Z",
     "iopub.status.busy": "2023-01-24T18:49:31.467192Z",
     "iopub.status.idle": "2023-01-24T18:49:31.475762Z",
     "shell.execute_reply": "2023-01-24T18:49:31.474439Z"
    },
    "papermill": {
     "duration": 0.018935,
     "end_time": "2023-01-24T18:49:31.478126",
     "exception": false,
     "start_time": "2023-01-24T18:49:31.459191",
     "status": "completed"
    },
    "tags": []
   },
   "outputs": [],
   "source": [
    "sun_data = {'Temperature (K)': 5778,'Luminosity(L/Lo)': 1, 'Radius(R/Ro)': 1, 'Absolute magnitude(Mv)': 4.83, 'Star color': 10, 'Spectral Class': 6}\n",
    "sun = pd.DataFrame(sun_data, index=[0])"
   ]
  },
  {
   "cell_type": "code",
   "execution_count": 14,
   "id": "bc01e7c6",
   "metadata": {
    "execution": {
     "iopub.execute_input": "2023-01-24T18:49:31.493728Z",
     "iopub.status.busy": "2023-01-24T18:49:31.492582Z",
     "iopub.status.idle": "2023-01-24T18:49:31.514505Z",
     "shell.execute_reply": "2023-01-24T18:49:31.512788Z"
    },
    "papermill": {
     "duration": 0.032396,
     "end_time": "2023-01-24T18:49:31.517286",
     "exception": false,
     "start_time": "2023-01-24T18:49:31.484890",
     "status": "completed"
    },
    "tags": []
   },
   "outputs": [
    {
     "name": "stdout",
     "output_type": "stream",
     "text": [
      "[3]\n"
     ]
    }
   ],
   "source": [
    "sun_pred = clf.predict(sun)\n",
    "print(sun_pred)"
   ]
  },
  {
   "cell_type": "markdown",
   "id": "71af3ad9",
   "metadata": {
    "papermill": {
     "duration": 0.005932,
     "end_time": "2023-01-24T18:49:31.529975",
     "exception": false,
     "start_time": "2023-01-24T18:49:31.524043",
     "status": "completed"
    },
    "tags": []
   },
   "source": [
    "### The model accurately predicted the sun's star type. It is a main sequence star, so we got a prediction of 3"
   ]
  },
  {
   "cell_type": "markdown",
   "id": "957e82ff",
   "metadata": {
    "papermill": {
     "duration": 0.005817,
     "end_time": "2023-01-24T18:49:31.541884",
     "exception": false,
     "start_time": "2023-01-24T18:49:31.536067",
     "status": "completed"
    },
    "tags": []
   },
   "source": [
    "# Now, we will find the line of data that is the most similar to the sun. We will do this using sklearn's NearestNeighbor's class."
   ]
  },
  {
   "cell_type": "code",
   "execution_count": 15,
   "id": "40c2594f",
   "metadata": {
    "execution": {
     "iopub.execute_input": "2023-01-24T18:49:31.556310Z",
     "iopub.status.busy": "2023-01-24T18:49:31.555798Z",
     "iopub.status.idle": "2023-01-24T18:49:31.564765Z",
     "shell.execute_reply": "2023-01-24T18:49:31.563692Z"
    },
    "papermill": {
     "duration": 0.018963,
     "end_time": "2023-01-24T18:49:31.567109",
     "exception": false,
     "start_time": "2023-01-24T18:49:31.548146",
     "status": "completed"
    },
    "tags": []
   },
   "outputs": [],
   "source": [
    "# Process the data\n",
    "sun['Star type'] = [3]\n",
    "sun = sun.reindex(columns=['Temperature (K)', 'Luminosity(L/Lo)', 'Radius(R/Ro)', 'Absolute magnitude(Mv)', 'Star type', 'Star color', 'Spectral Class'])"
   ]
  },
  {
   "cell_type": "code",
   "execution_count": 16,
   "id": "4a759ddc",
   "metadata": {
    "execution": {
     "iopub.execute_input": "2023-01-24T18:49:31.582002Z",
     "iopub.status.busy": "2023-01-24T18:49:31.580867Z",
     "iopub.status.idle": "2023-01-24T18:49:31.592928Z",
     "shell.execute_reply": "2023-01-24T18:49:31.591758Z"
    },
    "papermill": {
     "duration": 0.021689,
     "end_time": "2023-01-24T18:49:31.595204",
     "exception": false,
     "start_time": "2023-01-24T18:49:31.573515",
     "status": "completed"
    },
    "tags": []
   },
   "outputs": [
    {
     "name": "stdout",
     "output_type": "stream",
     "text": [
      "[[34 38 39 90 37 96 93 36 91 80]]\n"
     ]
    }
   ],
   "source": [
    "from sklearn.neighbors import NearestNeighbors\n",
    "\n",
    "# Create an instance of the NearestNeighbors class\n",
    "nn = NearestNeighbors(n_neighbors=10, algorithm='ball_tree')\n",
    "\n",
    "# Fit the model to the dataset\n",
    "nn.fit(df,df.columns)\n",
    "\n",
    "# Find the closest data points to the input\n",
    "input_data = sun\n",
    "distances, indices = nn.kneighbors(input_data)\n",
    "\n",
    "print(indices) # indices of the closest data point"
   ]
  },
  {
   "cell_type": "code",
   "execution_count": 17,
   "id": "aa380c37",
   "metadata": {
    "execution": {
     "iopub.execute_input": "2023-01-24T18:49:31.609313Z",
     "iopub.status.busy": "2023-01-24T18:49:31.608608Z",
     "iopub.status.idle": "2023-01-24T18:49:31.617635Z",
     "shell.execute_reply": "2023-01-24T18:49:31.616290Z"
    },
    "papermill": {
     "duration": 0.018659,
     "end_time": "2023-01-24T18:49:31.620103",
     "exception": false,
     "start_time": "2023-01-24T18:49:31.601444",
     "status": "completed"
    },
    "tags": []
   },
   "outputs": [
    {
     "name": "stdout",
     "output_type": "stream",
     "text": [
      "Temperature (K)           5800.00\n",
      "Luminosity(L/Lo)             0.81\n",
      "Radius(R/Ro)                 0.90\n",
      "Absolute magnitude(Mv)       5.05\n",
      "Star type                    3.00\n",
      "Star color                   7.00\n",
      "Spectral Class               4.00\n",
      "Name: 34, dtype: float64\n"
     ]
    }
   ],
   "source": [
    "print(df.loc[34])"
   ]
  },
  {
   "cell_type": "markdown",
   "id": "7de0bc70",
   "metadata": {
    "papermill": {
     "duration": 0.006047,
     "end_time": "2023-01-24T18:49:31.632501",
     "exception": false,
     "start_time": "2023-01-24T18:49:31.626454",
     "status": "completed"
    },
    "tags": []
   },
   "source": [
    "## We have found the most similar star to the sun."
   ]
  }
 ],
 "metadata": {
  "kernelspec": {
   "display_name": "Python 3",
   "language": "python",
   "name": "python3"
  },
  "language_info": {
   "codemirror_mode": {
    "name": "ipython",
    "version": 3
   },
   "file_extension": ".py",
   "mimetype": "text/x-python",
   "name": "python",
   "nbconvert_exporter": "python",
   "pygments_lexer": "ipython3",
   "version": "3.7.12"
  },
  "papermill": {
   "default_parameters": {},
   "duration": 13.150168,
   "end_time": "2023-01-24T18:49:32.562093",
   "environment_variables": {},
   "exception": null,
   "input_path": "__notebook__.ipynb",
   "output_path": "__notebook__.ipynb",
   "parameters": {},
   "start_time": "2023-01-24T18:49:19.411925",
   "version": "2.3.4"
  }
 },
 "nbformat": 4,
 "nbformat_minor": 5
}
